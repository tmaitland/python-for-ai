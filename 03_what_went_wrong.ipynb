{
  "cells": [
    {
      "cell_type": "markdown",
      "id": "a0f085d9",
      "metadata": {
        "id": "a0f085d9"
      },
      "source": [
        "<img src='https://github.com/tmaitland/python-for-ai/blob/main/images/Practicum_AI_Logo.white_outline.svg?raw=1' width=250 alt='Practicum AI logo'> <img src='https://github.com/PracticumAI/practicumai.github.io/blob/main/images/icons/practicumai_python.png?raw=true' align='right' width=50>\n",
        "***\n",
        "\n",
        "# What Went Wrong??\n",
        "\n",
        "Whether it's a typo or trying to solve a complex problem, you will undoubtedly encounter errors when coding! <img src='https://github.com/PracticumAI/python-for-ai/blob/main/images/frustrating_error.png?raw=true' alt='Icon of a person with a hand on head and an exclamation point' width=150 align='right'>\n",
        "\n",
        "Mistakes, errors, problem-solving, and, unfortunately, frustration are sometimes part of coding. Those can also lead to great joy when these problems are solved!\n",
        "\n",
        "But learning to solve problems is also something that can take practice. We will all run into errors, but having resources and experience to solve those errors rather than giving up is critical.\n",
        "\n",
        "This notebook is designed to help lead you through how we solve some common errors. We will look at:\n",
        "\n",
        "* Strategies for interpreting error messages\n",
        "* Online resources for finding help with errors\n",
        "* New possibilities with AI-powered tools to solve errors"
      ]
    },
    {
      "cell_type": "markdown",
      "id": "52fea84c",
      "metadata": {
        "id": "52fea84c"
      },
      "source": [
        "## Common typos\n",
        "\n",
        "Let's start trying to solve some of these errors. Each cell below has code that will generate an error. Can you fix them?"
      ]
    },
    {
      "cell_type": "code",
      "execution_count": 2,
      "id": "c0f4d9eb",
      "metadata": {
        "tags": [],
        "id": "c0f4d9eb",
        "outputId": "15057bc5-18e8-4267-a291-c378914bf82d",
        "colab": {
          "base_uri": "https://localhost:8080/"
        }
      },
      "outputs": [
        {
          "output_type": "stream",
          "name": "stdout",
          "text": [
            "I am storing the value 5\n"
          ]
        }
      ],
      "source": [
        "my_value = 5\n",
        "print(f'I am storing the value {my_value}')"
      ]
    },
    {
      "cell_type": "code",
      "execution_count": 5,
      "id": "21314a7d",
      "metadata": {
        "tags": [],
        "id": "21314a7d",
        "outputId": "9feb0235-2153-401a-c0d3-35317acded2c",
        "colab": {
          "base_uri": "https://localhost:8080/"
        }
      },
      "outputs": [
        {
          "output_type": "stream",
          "name": "stdout",
          "text": [
            "If this prints you fixed the error!\n",
            "None\n"
          ]
        }
      ],
      "source": [
        "def print_message():\n",
        "    print(\"If this prints you fixed the error!\")\n",
        "print(print_message())"
      ]
    },
    {
      "cell_type": "code",
      "execution_count": 8,
      "id": "d1ce848d",
      "metadata": {
        "tags": [],
        "id": "d1ce848d",
        "outputId": "369a9c43-4fcc-49bc-b568-5d3617f31344",
        "colab": {
          "base_uri": "https://localhost:8080/"
        }
      },
      "outputs": [
        {
          "output_type": "stream",
          "name": "stdout",
          "text": [
            "    continent         country  gdpPercap_1952  gdpPercap_1957  gdpPercap_1962  \\\n",
            "0      Africa         Algeria     2449.008185     3013.976023     2550.816880   \n",
            "1      Africa          Angola     3520.610273     3827.940465     4269.276742   \n",
            "2      Africa           Benin     1062.752200      959.601080      949.499064   \n",
            "3      Africa        Botswana      851.241141      918.232535      983.653976   \n",
            "4      Africa    Burkina Faso      543.255241      617.183465      722.512021   \n",
            "..        ...             ...             ...             ...             ...   \n",
            "137    Europe     Switzerland    14734.232750    17909.489730    20431.092700   \n",
            "138    Europe          Turkey     1969.100980     2218.754257     2322.869908   \n",
            "139    Europe  United Kingdom     9979.508487    11283.177950    12477.177070   \n",
            "140   Oceania       Australia    10039.595640    10949.649590    12217.226860   \n",
            "141   Oceania     New Zealand    10556.575660    12247.395320    13175.678000   \n",
            "\n",
            "     gdpPercap_1967  gdpPercap_1972  gdpPercap_1977  gdpPercap_1982  \\\n",
            "0       3246.991771     4182.663766     4910.416756     5745.160213   \n",
            "1       5522.776375     5473.288005     3008.647355     2756.953672   \n",
            "2       1035.831411     1085.796879     1029.161251     1277.897616   \n",
            "3       1214.709294     2263.611114     3214.857818     4551.142150   \n",
            "4        794.826560      854.735976      743.387037      807.198586   \n",
            "..              ...             ...             ...             ...   \n",
            "137    22966.144320    27195.113040    26982.290520    28397.715120   \n",
            "138     2826.356387     3450.696380     4269.122326     4241.356344   \n",
            "139    14142.850890    15895.116410    17428.748460    18232.424520   \n",
            "140    14526.124650    16788.629480    18334.197510    19477.009280   \n",
            "141    14463.918930    16046.037280    16233.717700    17632.410400   \n",
            "\n",
            "     gdpPercap_1987  ...    pop_1962    pop_1967    pop_1972    pop_1977  \\\n",
            "0       5681.358539  ...  11000948.0  12760499.0  14760787.0  17152804.0   \n",
            "1       2430.208311  ...   4826015.0   5247469.0   5894858.0   6162675.0   \n",
            "2       1225.856010  ...   2151895.0   2427334.0   2761407.0   3168267.0   \n",
            "3       6205.883850  ...    512764.0    553541.0    619351.0    781472.0   \n",
            "4        912.063142  ...   4919632.0   5127935.0   5433886.0   5889574.0   \n",
            "..              ...  ...         ...         ...         ...         ...   \n",
            "137    30281.704590  ...   5666000.0   6063000.0   6401400.0   6316424.0   \n",
            "138     5089.043686  ...  29788695.0  33411317.0  37492953.0  42404033.0   \n",
            "139    21664.787670  ...  53292000.0  54959000.0  56079000.0  56179000.0   \n",
            "140    21888.889030  ...  10794968.0  11872264.0  13177000.0  14074100.0   \n",
            "141    19007.191290  ...   2488550.0   2728150.0   2929100.0   3164900.0   \n",
            "\n",
            "       pop_1982    pop_1987    pop_1992    pop_1997  pop_2002  pop_2007  \n",
            "0    20033753.0  23254956.0  26298373.0  29072015.0  31287142  33333216  \n",
            "1     7016384.0   7874230.0   8735988.0   9875024.0  10866106  12420476  \n",
            "2     3641603.0   4243788.0   4981671.0   6066080.0   7026113   8078314  \n",
            "3      970347.0   1151184.0   1342614.0   1536536.0   1630347   1639131  \n",
            "4     6634596.0   7586551.0   8878303.0  10352843.0  12251209  14326203  \n",
            "..          ...         ...         ...         ...       ...       ...  \n",
            "137   6468126.0   6649942.0   6995447.0   7193761.0   7361757   7554661  \n",
            "138  47328791.0  52881328.0  58179144.0  63047647.0  67308928  71158647  \n",
            "139  56339704.0  56981620.0  57866349.0  58808266.0  59912431  60776238  \n",
            "140  15184200.0  16257249.0  17481977.0  18565243.0  19546792  20434176  \n",
            "141   3210650.0   3317166.0   3437674.0   3676187.0   3908037   4115771  \n",
            "\n",
            "[142 rows x 38 columns]\n"
          ]
        }
      ],
      "source": [
        "import pandas as pd\n",
        "\n",
        "url='https://raw.githubusercontent.com/PracticumAI/python-for-ai/main/data/gapminder_all.csv' # Direct link to the dataset on GitHub\n",
        "df = pd.read_csv(url)\n",
        "print(df)"
      ]
    },
    {
      "cell_type": "markdown",
      "id": "57e2c808",
      "metadata": {
        "id": "57e2c808"
      },
      "source": [
        "Ok, that last one isn't really a typo but a difference in how things are imported. Nothing is wrong with the `import pandas` line, but you will get an error if you try to use the common alias `pd`."
      ]
    },
    {
      "cell_type": "markdown",
      "id": "8344885d",
      "metadata": {
        "id": "8344885d"
      },
      "source": [
        "## The wall of red\n",
        "\n",
        "Sometimes, the error message is very long, and you are faced with a wall of red that can be intimidating. In these cases, the best solution is to start at the bottom of the error and work up a few lines to see if you can determine the source of the error.\n",
        "\n",
        "Have a try at this one:"
      ]
    },
    {
      "cell_type": "code",
      "execution_count": 11,
      "id": "d4ddfdac",
      "metadata": {
        "tags": [],
        "id": "d4ddfdac",
        "outputId": "cbf7d79d-1f27-427e-9952-79a706939fbc",
        "colab": {
          "base_uri": "https://localhost:8080/",
          "height": 430
        }
      },
      "outputs": [
        {
          "output_type": "display_data",
          "data": {
            "text/plain": [
              "<Figure size 640x480 with 1 Axes>"
            ],
            "image/png": "[encoded data removed]"
          },
          "metadata": {}
        }
      ],
      "source": [
        "import pandas as pd\n",
        "\n",
        "url='https://raw.githubusercontent.com/PracticumAI/python-for-ai/main/data/gapminder_all.csv' # Direct link to the dataset on GitHub\n",
        "df = pd.read_csv(url) # Create the dataframe from the given URL\n",
        "hist = df['gdpPercap_2007'].hist()\n"
      ]
    },
    {
      "cell_type": "markdown",
      "id": "d1762377",
      "metadata": {
        "id": "d1762377"
      },
      "source": [
        "   `KeyError: 'gdpPercap_2024'`\n",
        "\n",
        "It seems like a lot of text to tell you that the column `gdpPercap_2024` doesn't exist. `KeyError`s are pretty common mistakes and mean that you are trying to access a column that doesn't exist. There isn't data for 2024 in this case, but sometimes it's a typo in the name or an extra space somewhere.\n",
        "\n",
        "But, again, scrolling to the bottom gives the best summary of what went wrong.\n",
        "\n",
        "Scrolling back up a ways, you will see the line where the error occurred:\n",
        "\n",
        "   `----> 5 hist = df['gdpPercap_2024'].hist()`\n",
        "   \n",
        "Though that can sometimes be off by a few lines, and the line called out is just where things stopped.\n"
      ]
    },
    {
      "cell_type": "markdown",
      "id": "921f9588",
      "metadata": {
        "id": "921f9588"
      },
      "source": [
        "## Not all red is bad!\n",
        "\n",
        "Especially in AI, there are a few common cases where red output text doesn't mean things failed.\n",
        "\n",
        "1. With the rapid development of AI frameworks, it is common that functions are renamed, moved, replaced, or modified in other ways. In most cases, the developers will warn you that this is happening in the future and start issuing what are called **deprecation** warnings--something that is deprecated is being phased out and will, at some point, stop working. Take note of these warnings, especially if you are developing code you hope to use for a while. Changing to the new name/function/way of calling the feature now may save you trouble in the future. But, despite the warning, the function will still work for now.\n",
        "\n",
        "   * In the example below, the deprecated function wasn't even called in our code but by a function we called. In this case, you can try updating the package or ignore it for now.\n",
        "\n",
        "   ![Screenshot of a deprecation warning](https://github.com/tmaitland/python-for-ai/blob/main/images/deprecation_warning.png?raw=1)\n",
        "  \n",
        "   * The deprecation warning reads, \"The rowNum attribute was deprecated in Matplotlib 3.2 and will be removed two minor releases later. Use ax.get_subplotspec().rowspan.start instead.\" This means the `rowNum` parameter is being phased out and will not be supported after Matplotlib 3.4 (two minor versions later). A replacement is also suggested.\n"
      ]
    },
    {
      "cell_type": "markdown",
      "id": "49293cf9",
      "metadata": {
        "id": "49293cf9"
      },
      "source": [
        "2. Another common source of red output that can be ignored is when you are using GPUs. (\"GPU\" stands for \"Graphics Processing Unit\". GPUs are specialized computing hardware that can make AI and machine learning work *much* faster. GPUs are available on SCINet's Atlas cluster.) Often, when you first access the GPU, there is some logging and information about the GPU displayed. It would be nice if this were in a different color, but it's shown in red even though nothing is wrong!\n",
        "\n",
        "   This text is common when the GPU is first accessed:\n",
        "   ![Warning seen when a GPU is first accessed](https://github.com/PracticumAI/python-for-ai/blob/main/images/gpu_warning.png?raw=true)\n",
        "   \n",
        "   and this is common when you start a training run.\n",
        "   \n",
        "   ![Warning seen when a GPU is first accessed](https://github.com/PracticumAI/python-for-ai/blob/main/images/gpu_warning2.png?raw=true)\n",
        "   \n",
        "   **Both red blocks are logging messages and can be safely ignored. Despite the color, nothing has gone wrong!**"
      ]
    },
    {
      "cell_type": "markdown",
      "id": "3bf37c16",
      "metadata": {
        "id": "3bf37c16"
      },
      "source": [
        "## CUDA Memory errors\n",
        "\n",
        "\n",
        "Another class of error that you may encounter in working through notebooks, either in this course or in your development, is a CUDA out-of-memory error. CUDA is the programming language that interfaces with the GPU. When things work well, the error is relatively straightforward, e.g.:\n",
        "\n",
        "![CUDA out of memory error](https://github.com/PracticumAI/python-for-ai/blob/main/images/CUDA_OOM.png?raw=true)\n",
        "\n",
        "When things don't work well, the error can be more cryptic, and it can be hard to understand what went wrong.\n",
        "\n",
        "> The Python libraries we use work behind the scenes to communicate with CUDA, so you don't need to worry about it much. But when you see CUDA, know that it means something to do with a GPU.\n",
        "\n",
        "The source of the issue is that because there is time spent in moving data from the CPU memory (the computer's main RAM chips) to the GPU memory (the much more limited RAM built into the GPU itself), Python tries to minimize data movement. While notebooks are pretty good at managing the memory within a single notebook, a notebook will attempt to keep its memory on the GPU and not let other notebooks use the GPU RAM.\n",
        "\n",
        "So, if you have multiple notebooks open in a session, it is common to have odd errors caused by out-of-memory (OOM) situations. In many cases, Python recognizes and reports the error, but sometimes, hard-to-diagnose errors are displayed. In general, especially in our course notebooks, when you get an error, especially one using the GPU, suspect that there may be an out-of-memory error.\n",
        "\n",
        "To solve this, use the \"Running Terminals and Kernels\" panel and stop the kernels for notebooks you are not using. In this screenshot, there are several running notebooks:\n",
        "\n",
        "  ![screenshot of the Running Terminals and Kernels panel showing running notebook kernels](https://github.com/PracticumAI/python-for-ai/blob/main/images/Kernel_control.png?raw=true)\n",
        "  \n",
        "  Either use the \"**Shut Down All**\" button or close individual kernels. Unfortunately, you might need to restart the kernel for the notebook you are using and re-run all the cells from the top."
      ]
    },
    {
      "cell_type": "markdown",
      "id": "0e9bdf2c",
      "metadata": {
        "id": "0e9bdf2c"
      },
      "source": [
        "## What do you do when an error doesn't make sense?\n",
        "\n",
        "If you run into an issue where the cause of an error isn't clear, where do you go for help?\n",
        "\n",
        "Google (or another search engine) is usually a good starting point. The top results frequently have good information about the cause of the error. Here are sites with which you will likely become familiar:\n",
        "\n",
        "* [Stack Overflow](https://stackoverflow.com/): This is a great resource, and Google search results frequently feature relevant Stack Overflow posts where a user asks a question that resulted in an error similar to yours, and there are solutions provided. Other users can up-vote solutions to indicate that these are correct and helpful.\n",
        "* [Towards Data Science](https://towardsdatascience.com/) and [Medium](https://medium.com/): Towards Data Science is a blog that has multiple authors covering data science and AI tools. While not always a top hit in finding solutions, this site is frequently a resource when looking for methods for AI applications. Towards Data Science is part of a larger collection of sites under the Medium umbrella, with other sites, some of which also have great AI-focused content. Unfortunately, some of the content on these sites requires registration or subscription."
      ]
    }
  ],
  "metadata": {
    "kernelspec": {
      "display_name": "Python 3",
      "language": "python",
      "name": "python3"
    },
    "language_info": {
      "codemirror_mode": {
        "name": "ipython",
        "version": 3
      },
      "file_extension": ".py",
      "mimetype": "text/x-python",
      "name": "python",
      "nbconvert_exporter": "python",
      "pygments_lexer": "ipython3",
      "version": "3.9.2"
    },
    "colab": {
      "provenance": []
    }
  },
  "nbformat": 4,
  "nbformat_minor": 5
}